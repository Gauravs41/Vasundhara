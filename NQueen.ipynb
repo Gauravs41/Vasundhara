{
  "nbformat": 4,
  "nbformat_minor": 0,
  "metadata": {
    "colab": {
      "name": "NQueen.ipynb",
      "provenance": [],
      "include_colab_link": true
    },
    "kernelspec": {
      "name": "python3",
      "display_name": "Python 3"
    }
  },
  "cells": [
    {
      "cell_type": "markdown",
      "metadata": {
        "id": "view-in-github",
        "colab_type": "text"
      },
      "source": [
        "<a href=\"https://colab.research.google.com/github/Gauravs41/Vasundhara/blob/master/NQueen.ipynb\" target=\"_parent\"><img src=\"https://colab.research.google.com/assets/colab-badge.svg\" alt=\"Open In Colab\"/></a>"
      ]
    },
    {
      "cell_type": "code",
      "metadata": {
        "id": "cjCAy_ldaPI-",
        "colab_type": "code",
        "colab": {
          "base_uri": "https://localhost:8080/",
          "height": 54
        },
        "outputId": "66dfd550-3db0-4f27-ff2a-906edf4118b7"
      },
      "source": [
        "queen = []\n",
        "n = 26\n",
        "\n",
        "def nqueen(col):\n",
        "        if(col >= n):\n",
        "            return True\n",
        "        row = 0\n",
        "        while(row < n):\n",
        "            queen.append([row,col])\n",
        "            if(issafe(row,col) and nqueen(col+1)):\n",
        "                return True       \n",
        "            queen.pop(-1)\n",
        "            row = row + 1 \n",
        "        return False\n",
        "\n",
        "def issafe(row,col):\n",
        "    for i in range(len(queen)-1):\n",
        "        r = queen[i][0]\n",
        "        c = queen[i][1]\n",
        "        if(r==row):\n",
        "            return False\n",
        "        if(abs(row-r)==abs(col-c)):\n",
        "            return False\n",
        "    return True\n",
        "\n",
        "nqueen(0)\n",
        "print(queen)"
      ],
      "execution_count": 1,
      "outputs": [
        {
          "output_type": "stream",
          "text": [
            "[[0, 0], [2, 1], [4, 2], [1, 3], [3, 4], [8, 5], [10, 6], [12, 7], [14, 8], [20, 9], [22, 10], [24, 11], [19, 12], [21, 13], [23, 14], [25, 15], [9, 16], [6, 17], [15, 18], [11, 19], [7, 20], [5, 21], [17, 22], [13, 23], [18, 24], [16, 25]]\n"
          ],
          "name": "stdout"
        }
      ]
    }
  ]
}